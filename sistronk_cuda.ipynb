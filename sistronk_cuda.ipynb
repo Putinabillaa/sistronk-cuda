{
  "nbformat": 4,
  "nbformat_minor": 0,
  "metadata": {
    "colab": {
      "provenance": [],
      "gpuType": "T4",
      "include_colab_link": true
    },
    "kernelspec": {
      "name": "python3",
      "display_name": "Python 3"
    },
    "language_info": {
      "name": "python"
    },
    "accelerator": "GPU"
  },
  "cells": [
    {
      "cell_type": "markdown",
      "metadata": {
        "id": "view-in-github",
        "colab_type": "text"
      },
      "source": [
        "<a href=\"https://colab.research.google.com/github/Putinabillaa/sistronk-cuda/blob/main/sistronk_cuda.ipynb\" target=\"_parent\"><img src=\"https://colab.research.google.com/assets/colab-badge.svg\" alt=\"Open In Colab\"/></a>"
      ]
    },
    {
      "cell_type": "markdown",
      "source": [
        "[tutorial](https://www.geeksforgeeks.org/how-to-use-gpu-in-google-colab/)"
      ],
      "metadata": {
        "id": "YwuISbwcitHK"
      }
    },
    {
      "cell_type": "code",
      "execution_count": null,
      "metadata": {
        "colab": {
          "base_uri": "https://localhost:8080/"
        },
        "id": "Ys4IlQDFfjip",
        "outputId": "e602c78f-87fb-4b9c-dcc9-c4c62176e56d"
      },
      "outputs": [
        {
          "output_type": "stream",
          "name": "stdout",
          "text": [
            "Mon Apr 15 13:40:37 2024       \n",
            "+---------------------------------------------------------------------------------------+\n",
            "| NVIDIA-SMI 535.104.05             Driver Version: 535.104.05   CUDA Version: 12.2     |\n",
            "|-----------------------------------------+----------------------+----------------------+\n",
            "| GPU  Name                 Persistence-M | Bus-Id        Disp.A | Volatile Uncorr. ECC |\n",
            "| Fan  Temp   Perf          Pwr:Usage/Cap |         Memory-Usage | GPU-Util  Compute M. |\n",
            "|                                         |                      |               MIG M. |\n",
            "|=========================================+======================+======================|\n",
            "|   0  Tesla T4                       Off | 00000000:00:04.0 Off |                    0 |\n",
            "| N/A   38C    P8               9W /  70W |      0MiB / 15360MiB |      0%      Default |\n",
            "|                                         |                      |                  N/A |\n",
            "+-----------------------------------------+----------------------+----------------------+\n",
            "                                                                                         \n",
            "+---------------------------------------------------------------------------------------+\n",
            "| Processes:                                                                            |\n",
            "|  GPU   GI   CI        PID   Type   Process name                            GPU Memory |\n",
            "|        ID   ID                                                             Usage      |\n",
            "|=======================================================================================|\n",
            "|  No running processes found                                                           |\n",
            "+---------------------------------------------------------------------------------------+\n"
          ]
        }
      ],
      "source": [
        "!nvidia-smi\n"
      ]
    },
    {
      "cell_type": "markdown",
      "source": [],
      "metadata": {
        "id": "ltZ0fe6Eir2L"
      }
    },
    {
      "cell_type": "code",
      "source": [
        "!pip install git+https://github.com/andreinechaev/nvcc4jupyter.git"
      ],
      "metadata": {
        "colab": {
          "base_uri": "https://localhost:8080/"
        },
        "id": "fat9M4DJtDbr",
        "outputId": "b176bab5-62ee-4c09-c740-c506abd7f820"
      },
      "execution_count": null,
      "outputs": [
        {
          "output_type": "stream",
          "name": "stdout",
          "text": [
            "Collecting git+https://github.com/andreinechaev/nvcc4jupyter.git\n",
            "  Cloning https://github.com/andreinechaev/nvcc4jupyter.git to /tmp/pip-req-build-ijvqqxnm\n",
            "  Running command git clone --filter=blob:none --quiet https://github.com/andreinechaev/nvcc4jupyter.git /tmp/pip-req-build-ijvqqxnm\n",
            "  Resolved https://github.com/andreinechaev/nvcc4jupyter.git to commit 5741c522547756ac4bb7a16df32106a15efb8a57\n",
            "  Installing build dependencies ... \u001b[?25l\u001b[?25hdone\n",
            "  Getting requirements to build wheel ... \u001b[?25l\u001b[?25hdone\n",
            "  Preparing metadata (pyproject.toml) ... \u001b[?25l\u001b[?25hdone\n"
          ]
        }
      ]
    },
    {
      "cell_type": "code",
      "source": [
        "!nvcc --version"
      ],
      "metadata": {
        "id": "WY6GLu83h39-",
        "colab": {
          "base_uri": "https://localhost:8080/"
        },
        "outputId": "597f1370-8d08-4eb4-b0a8-c474482a3b8e"
      },
      "execution_count": null,
      "outputs": [
        {
          "output_type": "stream",
          "name": "stdout",
          "text": [
            "nvcc: NVIDIA (R) Cuda compiler driver\n",
            "Copyright (c) 2005-2023 NVIDIA Corporation\n",
            "Built on Tue_Aug_15_22:02:13_PDT_2023\n",
            "Cuda compilation tools, release 12.2, V12.2.140\n",
            "Build cuda_12.2.r12.2/compiler.33191640_0\n"
          ]
        }
      ]
    },
    {
      "cell_type": "code",
      "source": [
        "%%writefile cuda.cu\n",
        "\n",
        "#include <stdio.h>\n",
        "\n",
        "#define N 4\n",
        "\n",
        "__global__ void add_identity(double *matrix) {\n",
        "    int idx = blockIdx.x * blockDim.x + threadIdx.x;\n",
        "    int row = idx / (2 * N);\n",
        "    int col = idx % (2 * N);\n",
        "\n",
        "    if (col >= N && col == (row + N)) {\n",
        "        matrix[idx] = 1.0;\n",
        "    } else if (col >= N) {\n",
        "        matrix[idx] = 0.0;\n",
        "    }\n",
        "}\n",
        "\n",
        "__global__ void gauss_jordan(double *matrix, int *pivot_row, int pivot) {\n",
        "    int idx = blockIdx.x * blockDim.x + threadIdx.x;\n",
        "\n",
        "    if (idx == pivot) {\n",
        "        double pivot_val = matrix[pivot * (2*N) + pivot];\n",
        "        for (int j = 0; j < 2*N; j++) {\n",
        "            matrix[pivot * (2*N) + j] /= pivot_val;\n",
        "        }\n",
        "    }\n",
        "\n",
        "    // Synchronize all thread in block\n",
        "    __syncthreads();\n",
        "\n",
        "    // Gauss Elimination\n",
        "    for (int i = 0; i < N; i++) {\n",
        "        if (idx != pivot) {\n",
        "            double factor = matrix[idx * (2*N) + pivot] / matrix[pivot * (2*N) + pivot];\n",
        "            matrix[idx * (2*N) + i] -= factor * matrix[pivot * (2*N) + i];\n",
        "        }\n",
        "    }\n",
        "\n",
        "    if (idx == pivot) {\n",
        "        pivot_row[blockIdx.x] = pivot;\n",
        "    }\n",
        "}\n",
        "\n",
        "void print_matrix(double matrix[N][2*N]) {\n",
        "    for (int i = 0; i < N; i++) {\n",
        "        for (int j = 0; j < 2*N; j++) {\n",
        "            printf(\"%.2f \", matrix[i][j]);\n",
        "        }\n",
        "        printf(\"\\n\");\n",
        "    }\n",
        "}\n",
        "\n",
        "int main() {\n",
        "    double *d_matrix;\n",
        "    int *d_pivot_row;\n",
        "\n",
        "    // Memory allocation in GPU\n",
        "    cudaMalloc(&d_matrix, N * 2 * N * sizeof(double));\n",
        "    cudaMalloc(&d_pivot_row, N * sizeof(int));\n",
        "\n",
        "    dim3 blockDim(16, 16);\n",
        "    dim3 gridDim((N * 2 + blockDim.x - 1) / blockDim.x, (N + blockDim.y - 1) / blockDim.y);\n",
        "\n",
        "    double matrix_input[N][N] = {\n",
        "        {4, 3, 2, 1},\n",
        "        {3, 2, 1, 4},\n",
        "        {2, 1, 4, 3},\n",
        "        {1, 4, 3, 2}\n",
        "    };\n",
        "    cudaMemcpy(d_matrix, matrix_input, N * N * sizeof(double), cudaMemcpyHostToDevice);\n",
        "\n",
        "    add_identity<<<gridDim, blockDim>>>(d_matrix);\n",
        "\n",
        "    // Synchronize to make sure the kernel is completed\n",
        "    cudaDeviceSynchronize();\n",
        "\n",
        "    // Copy result matrix from GPU to CPU\n",
        "    double matrix[N][2*N];\n",
        "    cudaMemcpy(matrix, d_matrix, N * 2 * N * sizeof(double), cudaMemcpyDeviceToHost);\n",
        "\n",
        "    printf(\"\\nAfter Add Identity:\\n\");\n",
        "    print_matrix(matrix);\n",
        "\n",
        "    for (int pivot = 0; pivot < N; pivot++) {\n",
        "        gauss_jordan<<<N, 1>>>(d_matrix, d_pivot_row, pivot);\n",
        "    }\n",
        "\n",
        "    // Synchronize to make sure the kernel is completed\n",
        "    cudaDeviceSynchronize();\n",
        "\n",
        "    // Copy result matrix from GPU to CPU\n",
        "    cudaMemcpy(matrix, d_matrix, N * 2 * N * sizeof(double), cudaMemcpyDeviceToHost);\n",
        "\n",
        "    printf(\"\\nInvers matriks:\\n\");\n",
        "    print_matrix(matrix);\n",
        "\n",
        "    cudaFree(d_matrix);\n",
        "    cudaFree(d_pivot_row);\n",
        "\n",
        "    return 0;\n",
        "}"
      ],
      "metadata": {
        "colab": {
          "base_uri": "https://localhost:8080/"
        },
        "id": "_2EdwBcWhF4g",
        "outputId": "2c56e223-d2e9-4ea4-a23e-001ac6633a1b"
      },
      "execution_count": null,
      "outputs": [
        {
          "output_type": "stream",
          "name": "stdout",
          "text": [
            "Overwriting cuda.cu\n"
          ]
        }
      ]
    },
    {
      "cell_type": "code",
      "source": [
        "!nvcc cuda.cu -o cuda"
      ],
      "metadata": {
        "id": "ns5d4agChKzk"
      },
      "execution_count": null,
      "outputs": []
    },
    {
      "cell_type": "code",
      "source": [
        "!./cuda"
      ],
      "metadata": {
        "id": "9Nah7SO1heW2",
        "colab": {
          "base_uri": "https://localhost:8080/"
        },
        "outputId": "21fd94a2-3c1f-4d3f-f2c1-da7386e7220c"
      },
      "execution_count": null,
      "outputs": [
        {
          "output_type": "stream",
          "name": "stdout",
          "text": [
            "\n",
            "After Add Identity:\n",
            "4.00 3.00 2.00 1.00 1.00 0.00 0.00 0.00 \n",
            "2.00 1.00 4.00 3.00 0.00 1.00 0.00 0.00 \n",
            "0.00 0.00 0.00 0.00 0.00 0.00 0.00 0.00 \n",
            "0.00 0.00 0.00 0.00 0.00 0.00 0.00 0.00 \n",
            "\n",
            "Invers matriks:\n",
            "-nan -nan -nan -nan 0.25 0.00 0.00 0.00 \n",
            "-nan -nan -nan -nan 0.00 1.00 0.00 0.00 \n",
            "-nan -nan -nan -nan -nan -nan -nan -nan \n",
            "-nan -nan -nan -nan -nan -nan -nan -nan \n"
          ]
        }
      ]
    }
  ]
}